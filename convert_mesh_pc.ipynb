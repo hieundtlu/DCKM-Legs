{
 "cells": [
  {
   "cell_type": "code",
   "execution_count": 1,
   "metadata": {},
   "outputs": [
    {
     "name": "stdout",
     "output_type": "stream",
     "text": [
      "Jupyter environment detected. Enabling Open3D WebVisualizer.\n",
      "[Open3D INFO] WebRTC GUI backend enabled.\n",
      "[Open3D INFO] WebRTCWindowSystem: HTTP handshake server disabled.\n"
     ]
    }
   ],
   "source": [
    "import trimesh\n",
    "import numpy as np \n",
    "import glob\n",
    "\n",
    "import open3d as o3d\n",
    "\n",
    "meshfiles = []\n",
    "point_cloud_arrays = []\n",
    "path_names = [\n",
    "    \"fulldata-stl/20148_région1.stl\",\n",
    "    \"fulldata-stl/20183_région1.stl\",\n",
    "    \"fulldata-stl/20187_région1.stl\",\n",
    "    \"fulldata-stl/10204_région1.stl\"\n",
    "]\n",
    "\n",
    "for file in glob.glob(\"fulldata-stl/*\"):\n",
    "    if file not in path_names:\n",
    "        meshfiles.append(file)\n",
    "\n",
    "for item in meshfiles:\n",
    "    mesh = o3d.io.read_triangle_mesh(item)\n",
    "    mesh.compute_vertex_normals()\n",
    "    point_cloud = o3d.geometry.PointCloud(mesh.vertices)\n",
    "    point_cloud_arrays.append(point_cloud)"
   ]
  },
  {
   "cell_type": "code",
   "execution_count": 2,
   "metadata": {},
   "outputs": [],
   "source": [
    "def normalized(points):\n",
    "  points_min = points.min(axis=0)\n",
    "  points_max = points.max(axis=0)\n",
    "  points_normalized = (points - points_min) / (points_max - points_min)\n",
    "  points_normalized = 2 * (points_normalized - 0.5)  # Scale to [-1, 1]\n",
    "  return points_normalized"
   ]
  },
  {
   "cell_type": "code",
   "execution_count": 3,
   "metadata": {},
   "outputs": [],
   "source": [
    "def convert_points_to_3d(points, grid_size):\n",
    "  grid = np.zeros((grid_size, grid_size, grid_size), dtype=np.float32)\n",
    "\n",
    "  points_normalized = normalized(points)\n",
    "\n",
    "  # Convert normalized points to voxel grid indices\n",
    "  voxel_indices = ((points_normalized + 1) / 2 * (grid_size - 1)).astype(int)\n",
    "\n",
    "  # Populate the grid\n",
    "  for idx in voxel_indices:\n",
    "      grid[tuple(idx)] = 1.0  # You can accumulate values or set to 1.0 if the voxel is occupied\n",
    "  return grid"
   ]
  },
  {
   "cell_type": "code",
   "execution_count": 4,
   "metadata": {},
   "outputs": [],
   "source": [
    "grid_size = 50\n",
    "grid_3ds = []\n",
    "for point_cloud in point_cloud_arrays:\n",
    "  grid_3d = convert_points_to_3d(np.asarray(point_cloud.points), grid_size)\n",
    "  grid_3ds.append(grid_3d)"
   ]
  },
  {
   "cell_type": "code",
   "execution_count": 5,
   "metadata": {},
   "outputs": [],
   "source": [
    "np.save(\"fulldata_3d_without_4_points.npy\", grid_3ds)"
   ]
  },
  {
   "cell_type": "code",
   "execution_count": null,
   "metadata": {},
   "outputs": [],
   "source": []
  },
  {
   "cell_type": "code",
   "execution_count": 1,
   "metadata": {},
   "outputs": [
    {
     "name": "stdout",
     "output_type": "stream",
     "text": [
      "Jupyter environment detected. Enabling Open3D WebVisualizer.\n",
      "[Open3D INFO] WebRTC GUI backend enabled.\n",
      "[Open3D INFO] WebRTCWindowSystem: HTTP handshake server disabled.\n"
     ]
    }
   ],
   "source": [
    "import open3d as o3d\n",
    "import numpy as np\n",
    "\n",
    "# Step 1: Load the STL file as a mesh\n",
    "mesh = o3d.io.read_triangle_mesh(\"./fulldata-stl/10134_région4.stl\")\n",
    "\n",
    "# Step 2: Sample points on the mesh\n",
    "# You can sample points uniformly or using Poisson disk sampling.\n",
    "# Uniform sampling\n",
    "point_cloud = mesh.sample_points_uniformly(number_of_points=5000)\n",
    "\n",
    "point_cloud.colors = o3d.utility.Vector3dVector(np.tile([1, 0, 0], (len(point_cloud.points), 1)))\n",
    "\n",
    "# Step 4: Create a visualization window and set point size\n",
    "vis = o3d.visualization.Visualizer()\n",
    "vis.create_window()\n",
    "\n",
    "# Add the point cloud to the window\n",
    "vis.add_geometry(point_cloud)\n",
    "\n",
    "# Get the render options to change point size\n",
    "render_option = vis.get_render_option()\n",
    "render_option.point_size = 0.7  # Adjust the point size, smaller values for smaller points\n",
    "\n",
    "# Step 5: Run the visualization and destroy the window after closing\n",
    "vis.run()\n",
    "vis.destroy_window()"
   ]
  },
  {
   "cell_type": "code",
   "execution_count": null,
   "metadata": {},
   "outputs": [],
   "source": []
  }
 ],
 "metadata": {
  "kernelspec": {
   "display_name": "rola-train",
   "language": "python",
   "name": "python3"
  },
  "language_info": {
   "codemirror_mode": {
    "name": "ipython",
    "version": 3
   },
   "file_extension": ".py",
   "mimetype": "text/x-python",
   "name": "python",
   "nbconvert_exporter": "python",
   "pygments_lexer": "ipython3",
   "version": "3.10.14"
  }
 },
 "nbformat": 4,
 "nbformat_minor": 2
}
